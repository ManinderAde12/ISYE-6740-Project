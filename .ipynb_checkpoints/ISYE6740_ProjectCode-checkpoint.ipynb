{
 "cells": [
  {
   "cell_type": "markdown",
   "id": "4740bfb9",
   "metadata": {},
   "source": [
    "# ISYE 6740 Final Project"
   ]
  },
  {
   "cell_type": "markdown",
   "id": "8dd76a1e-b087-4cc6-84ee-e10b46e10348",
   "metadata": {},
   "source": [
    "## Preprocessing Python Scripts"
   ]
  },
  {
   "cell_type": "markdown",
   "id": "f8418e92",
   "metadata": {},
   "source": [
    "### Extract the image and organize"
   ]
  },
  {
   "cell_type": "code",
   "execution_count": 1,
   "id": "dbf88f08",
   "metadata": {},
   "outputs": [],
   "source": [
    "import warnings\n",
    "warnings.filterwarnings(\"ignore\")"
   ]
  },
  {
   "cell_type": "code",
   "execution_count": 33,
   "id": "53887be7",
   "metadata": {},
   "outputs": [],
   "source": [
    "# # file: image_organizer\n",
    "# # language: Python 3.9\n",
    "# # purpose: create dataframe that organizes images by patient and then type (normal, virus, bacteria)\n",
    "# #          and then redistributes into more balanced train/test/validate subsets\n",
    "# #          based on patient so that all patient images are in the same subset (train/test/validate)\n",
    "# # NOTES: does not read in or process images, just organizes file handles\n",
    "# #        assumes image files are loaded in subdirectory \"chest_xray\" under directory with this program\n",
    "\n",
    "# # imports\n",
    "# import numpy as np\n",
    "# import pandas as pd\n",
    "# from random import sample, seed\n",
    "# import matplotlib.image as mpimg\n",
    "# import os\n",
    "# import re\n",
    "\n",
    "# seed(123)\n",
    "\n",
    "# base_dir = \"./chest_xray/\"\n",
    "# sub_dirs = [\"test/NORMAL\",\n",
    "#             \"test/PNEUMONIA\",\n",
    "#             \"train/NORMAL\",\n",
    "#             \"train/PNEUMONIA\",\n",
    "#             \"val/NORMAL\",\n",
    "#             \"val/PNEUMONIA\"]\n",
    "\n",
    "# image_df = pd.DataFrame(columns=[\"source_file\", \"source_dir\"], dtype=\"str\")\n",
    "# for sub_dir in sub_dirs:\n",
    "#     source_dir = base_dir + sub_dir\n",
    "#     files = os.listdir(base_dir+sub_dir)\n",
    "#     temp_df = pd.DataFrame(files, columns=[\"source_file\"])\n",
    "#     temp_df[\"source_dir\"] = source_dir\n",
    "#     image_df = pd.concat([image_df, temp_df], ignore_index=True)\n",
    "# image_df = image_df.sort_values([\"source_dir\", \"source_file\"])\n",
    "\n",
    "# # set image type: normal, bacterial penumonia or viral pneumonia\n",
    "# types = [\"normal\", \"bacteria\", \"virus\"]\n",
    "# image_df[\"type\"] = \"normal\"\n",
    "# image_df[\"type\"] = np.where(image_df[\"source_file\"].str.contains(\"virus\"), \"virus\", image_df[\"type\"])\n",
    "# image_df[\"type\"] = np.where(image_df[\"source_file\"].str.contains(\"bacteria\"), \"bacteria\", image_df[\"type\"])\n",
    "# for type in types:\n",
    "#     type_df = image_df[image_df.type == type]\n",
    "\n",
    "# # extract patient number from filename\n",
    "# def extract_patient(source_file):\n",
    "#     patient = \"\"\n",
    "#     if \"virus\" in source_file:\n",
    "#         patient = str.split(source_file, \"_\")[0][6:]\n",
    "#     if \"bacteria\" in source_file:\n",
    "#         patient = str.split(source_file, \"_\")[0][6:]\n",
    "#     if \"NORMAL\" in source_file:\n",
    "#         patient = str.split(source_file, \"-\")[2]\n",
    "#     else:\n",
    "#         if \"IM\" in source_file:\n",
    "#             patient = str.split(source_file, \"-\")[1]\n",
    "#     return(int(patient))\n",
    "\n",
    "# image_df[\"patient\"] = image_df[\"source_file\"].apply(extract_patient)\n",
    "# # save copy of intermediate dataframe\n",
    "# image_df.to_csv('./chest_xray/image_df.csv')\n",
    "\n",
    "# # create bucketized dataframe\n",
    "# # where each row represents a patient\n",
    "# # and their are separate columns for images and image counts by type\n",
    "# patients = list(image_df.patient.unique())\n",
    "# xray_data = []\n",
    "# for patient in patients:\n",
    "#     bytype = []\n",
    "#     for type in types:\n",
    "#        subset = image_df[(image_df.patient == patient) & (image_df.type == type)].copy()\n",
    "#        # subset[\"source\"] = subset.source_file\n",
    "#        subset[\"source\"] = subset.source_dir + \"/\" + subset.source_file\n",
    "#        bytype.append(list(subset[\"source\"]))\n",
    "#     xray_data.append((patient, bytype[0], bytype[1], bytype[2]))\n",
    "# xray_data_df = pd.DataFrame(xray_data, columns=[\"patient\", \"normal\", \"bacteria\", \"virus\"])\n",
    "\n",
    "# # track count of images\n",
    "# def image_count(image_list):\n",
    "#     return len(image_list)\n",
    "# for type in types:\n",
    "#     xray_data_df[type+\"_count\"] = xray_data_df[type].apply(image_count)\n",
    "# xray_data_df.to_csv('./chest_xray/grouped_image_df.csv')\n",
    "\n",
    "# # partition patients between train, test & validation sets\n",
    "# # note the balancing won't be exact as the number of images of each type vary by patient\n",
    "# # but trials seem to show it provides a reasonable distribution\n",
    "# count = xray_data_df.shape[0]\n",
    "# # proportion of sample for training\n",
    "# train_proportion = 0.6\n",
    "\n",
    "# # shuffle patients\n",
    "# xray_data_df = xray_data_df.sample(frac=1).reset_index(drop=True)\n",
    "\n",
    "# # label sets\n",
    "# xray_data_df[\"set\"] = \"train\"\n",
    "# train_count = int(count * train_proportion)\n",
    "# test_count = int((count-train_count)/2)\n",
    "# xray_data_df.set[train_count:test_count + train_count] = \"test\"\n",
    "# # validation set will get whatever is left over ~ approximately same size as test\n",
    "# xray_data_df.set[test_count + train_count:] = \"validate\"\n",
    "\n",
    "# # display results of oversampling\n",
    "# for set in [\"train\", \"test\", \"validate\"]:\n",
    "#     temp_df = xray_data_df[xray_data_df.set == set]\n",
    "#     print(\"set\", set,\n",
    "#           \"normal\", np.sum(temp_df.normal_count),\n",
    "#           \"bacteria\", np.sum(temp_df.bacteria_count),\n",
    "#           \"virus\", np.sum(temp_df.virus_count))\n",
    "\n",
    "# # export df to files (csv to browse, json to retrieve)\n",
    "# xray_data_df.to_json('./chest_xray/xray_data_df.json')\n",
    "# xray_data_df.to_csv('./chest_xray/xray_data_df.csv')"
   ]
  },
  {
   "cell_type": "markdown",
   "id": "7f30dc35",
   "metadata": {},
   "source": [
    "### Resampling the organized images"
   ]
  },
  {
   "cell_type": "code",
   "execution_count": 34,
   "id": "2ea30822",
   "metadata": {},
   "outputs": [],
   "source": [
    "# # file resample_images\n",
    "# # language: Python 3.9\n",
    "# # purpose: resample (oversample) images to correct imbalance between normal, virus & bacteria\n",
    "\n",
    "# # imports\n",
    "# import numpy as np\n",
    "# import pandas as pd\n",
    "# from random import choices, randint, seed\n",
    "# import matplotlib.image as mpimg\n",
    "# import os\n",
    "# import re\n",
    "\n",
    "# seed(123)\n",
    "\n",
    "# # load xray_data_df\n",
    "# xray_data_df = pd.read_json('./chest_xray/xray_data_df.json')\n",
    "\n",
    "# # oversample by set (to prevent contaminating test & validate sets)\n",
    "# # get list of sets & types from data)\n",
    "# sets = [\"train\", \"test\", \"validate\"]\n",
    "# types = [\"normal\", \"bacteria\", \"virus\"]\n",
    "# other_types = [\"normal\", \"virus\"]\n",
    "# print(xray_data_df.iloc[0:5])\n",
    "# print(\"columns\", xray_data_df.columns)\n",
    "\n",
    "# for set in sets:\n",
    "#     print(\"set\", set)\n",
    "#     temp_df = xray_data_df[xray_data_df[\"set\"] == set]\n",
    "#     # since bacteria count is always higher than other types\n",
    "#     # we will use bacteria count to oversample other image types\n",
    "#     target_sample = np.sum(temp_df.bacteria_count)\n",
    "\n",
    "#     # oversample normal\n",
    "#     temp2_df = temp_df[temp_df.normal_count > 0]\n",
    "#     patients = list(temp2_df.patient)\n",
    "#     sample = np.sum(temp_df[\"normal_count\"])\n",
    "#     # compute needed sample\n",
    "#     needed_sample = target_sample - sample\n",
    "\n",
    "#     # pull additional samples with replacement\n",
    "#     # samples pulled by patient not by image so as not to overweight patients with multiple images\n",
    "#     # for each sampled patient one normal image is added to the sample\n",
    "#     samples = choices(patients, k=needed_sample)\n",
    "\n",
    "#     # iterate through sample\n",
    "#     for sample in samples:\n",
    "#         images = xray_data_df.normal[xray_data_df[\"patient\"] == sample].iloc[0]\n",
    "#         count = xray_data_df.normal_count[xray_data_df[\"patient\"] == sample].iloc[0]\n",
    "#         if count > 1:\n",
    "#             added_image = images[randint(0, count - 1)]\n",
    "#         else:\n",
    "#             added_image = images[0]\n",
    "#         xray_data_df.normal[xray_data_df.patient == sample].iloc[0].append(added_image)\n",
    "#         xray_data_df.normal_count[xray_data_df.patient == sample] = count + 1\n",
    "\n",
    "#     # oversample virus\n",
    "#     temp2_df = temp_df[temp_df.virus_count > 0]\n",
    "#     patients = list(temp2_df.patient)\n",
    "#     sample = np.sum(temp_df[\"virus_count\"])\n",
    "#     # compute needed sample\n",
    "#     needed_sample = target_sample - sample\n",
    "\n",
    "#     # pull additional samples with replacement\n",
    "#     # samples pulled by patient not by image so as not to overweight patients with multiple images\n",
    "#     # for each sampled patient one normal image is added to the sample\n",
    "#     samples = choices(patients, k=needed_sample)\n",
    "\n",
    "#     # iterate through sample\n",
    "#     for sample in samples:\n",
    "#         images = xray_data_df.virus[xray_data_df[\"patient\"] == sample].iloc[0]\n",
    "#         count = xray_data_df.virus_count[xray_data_df[\"patient\"] == sample].iloc[0]\n",
    "#         if count > 1:\n",
    "#             added_image = images[randint(0, count - 1)]\n",
    "#         else:\n",
    "#             added_image = images[0]\n",
    "#         xray_data_df.virus[xray_data_df.patient == sample].iloc[0].append(added_image)\n",
    "#         xray_data_df.virus_count[xray_data_df.patient == sample] = count + 1\n",
    "\n",
    "\n",
    "# for set in [\"train\", \"test\", \"validate\"]:\n",
    "#     temp_df = xray_data_df[xray_data_df.set == set]\n",
    "#     print(\"set\", set,\n",
    "#           \"normal\", np.sum(temp_df.normal_count),\n",
    "#           \"bacteria\", np.sum(temp_df.bacteria_count),\n",
    "#           \"virus\", np.sum(temp_df.virus_count))\n",
    "\n",
    "# xray_data_df.to_json('./chest_xray/xray_balanced_data_df.json')\n",
    "# xray_data_df.to_csv('./chest_xray/xray_balanced_data_df.csv')\n"
   ]
  },
  {
   "cell_type": "markdown",
   "id": "12af30b0",
   "metadata": {},
   "source": [
    "### PCA Analysis"
   ]
  },
  {
   "cell_type": "code",
   "execution_count": 35,
   "id": "cb913108",
   "metadata": {},
   "outputs": [],
   "source": [
    "# \"\"\"\n",
    "# Title: Translate Resampled Directories To Data Table\n",
    "# Created on Mon Jul 17 17:53:39 2023\n",
    "# @author: nccru\n",
    "# \"\"\"\n",
    "\n",
    "# # %% import packages\n",
    "# import cv2\n",
    "# import numpy as np\n",
    "# import pandas as pd\n",
    "# import matplotlib.pyplot as plt\n",
    "# import re\n",
    "# from sklearn.decomposition import PCA\n",
    "\n",
    "# # %% extract each image into a new file\n",
    "# def read_path_assignments_to_tuple_list(filepath = './chest_xray/xray_balanced_data_df.csv', image_size = 150):\n",
    "#     \"\"\"\n",
    "#     Description \n",
    "#     -------\n",
    "#     Takes the file generated from the resample_images.py file and creates\n",
    "#     a series of three lists of tuples. Each tuple element is a list of \n",
    "#     [set, patient id, class id, vectorized image].\n",
    "    \n",
    "#     Inputs\n",
    "#     -------\n",
    "#     `filepath` = Path to the csv file output from the resample_images.py file\n",
    "#     `image_size` = n x n size of the compressed image we want for the sake of\n",
    "#         standardization, as each image may have different baseline dimensions\n",
    "    \n",
    "#     Returns\n",
    "#     -------\n",
    "#     `train` = list of tuples containing records associated with the training\n",
    "#         data set.\n",
    "        \n",
    "#     `test` = list of tuples containing records associated with the testing\n",
    "#         data set.\n",
    "        \n",
    "#     `val` = list of tuples containing records associated with the validation\n",
    "#         data set.\n",
    "#     \"\"\"\n",
    "#     # read data\n",
    "#     df = pd.read_csv(filepath)\n",
    "    \n",
    "#     # iterate through each row\n",
    "#     train, test, val = [], [], []\n",
    "#     for i in df.itertuples(index = False):\n",
    "#         # print('--- Patient {} ---'.format(i.patient))\n",
    "#         # extract file paths\n",
    "#         norm_paths = i.normal.strip('[]').split(',')\n",
    "#         bac_paths = i.bacteria.strip('[]').split(',')\n",
    "#         vir_paths = i.virus.strip('[]').split(',')\n",
    "        \n",
    "#         # read in the images\n",
    "#         def read_image(img_path, img_size = image_size):\n",
    "#             p = re.sub(r\"'\", '', img_path).strip() # clean up path name\n",
    "#             img_arr = cv2.imread(p, cv2.IMREAD_GRAYSCALE) \n",
    "#             img_resize = cv2.resize(img_arr, (img_size, img_size)).flatten()\n",
    "#             img_resize_scaled = img_resize / 255\n",
    "#             return img_resize_scaled\n",
    "        \n",
    "#         def store_image(img_arr, class_id):\n",
    "#             if i.set == 'train':\n",
    "#                 train.append((i.set, i.patient, class_id, img_arr))\n",
    "#             elif i.set == 'test':\n",
    "#                 test.append((i.set, i.patient, class_id, img_arr))\n",
    "#             else:\n",
    "#                 val.append((i.set, i.patient, class_id, img_arr))\n",
    "            \n",
    "#         ## normal\n",
    "#         for path in norm_paths:\n",
    "#             # print(path)\n",
    "#             if len(path) > 0:\n",
    "#                 img = read_image(path)\n",
    "#                 store_image(img, 'normal')\n",
    "        \n",
    "#         ## bacteria\n",
    "#         for path in bac_paths:\n",
    "#             if len(path) > 0:\n",
    "#                 img = read_image(path)\n",
    "#                 store_image(img, 'bacteria')\n",
    "                \n",
    "#         ## virus\n",
    "#         for path in vir_paths:\n",
    "#             if len(path) > 0:\n",
    "#                 img = read_image(path)\n",
    "#                 store_image(img, 'virus')\n",
    "    \n",
    "#     return train, test, val\n",
    "\n",
    "# # %% convert list of tuples into relevant shapes for plotting\n",
    "# def convert_tuple_list_to_sklearn_objects(train, test, val):\n",
    "#     \"\"\"\n",
    "#     Description\n",
    "#     -------\n",
    "#     Given a collection of tuple lists [train, test, val], join them all\n",
    "#     together and reshape them meaningfully.\n",
    "    \n",
    "#     Inputs \n",
    "#     -------\n",
    "#     `train`, `test`, `val` = Tuple lists from the function \n",
    "#         read_path_assignments_to_tuple_list\n",
    "    \n",
    "\n",
    "#     Returns\n",
    "#     -------\n",
    "#     `sets` = An array of defining which set each sample belongs to.\n",
    "#     `y` = The labels for each vectorized image.\n",
    "#     `X` = The vectorized images\n",
    "\n",
    "#     \"\"\"\n",
    "#     t = train + test + val # stack all lists together\n",
    "#     sets = [set_id for (set_id, patient_id, class_id, arr) in t]\n",
    "#     y = [class_id for (set_id, patient_id, class_id, arr) in t]\n",
    "#     X = np.stack([arr for (set_id, patient_id, class_id, arr) in t])\n",
    "    \n",
    "#     return sets, y, X\n",
    "\n",
    "# # %% perform PCA on X to reduce dimensionality\n",
    "# def pca_and_convert_to_pandas(X, y, sets, pca_dim = 20):\n",
    "#     \"\"\"\n",
    "#     Description\n",
    "#     -------\n",
    "#     Given a set of vectorized images `X`, their class labels `y`, and which \n",
    "#     `sets` they belong to, perform PCA to reduce the dimensionality down to\n",
    "#     `pca_dim`. Then store that as a df.\n",
    "    \n",
    "#     Note that we have to generate the PCA eigenvalues and eigenvectors on the \n",
    "#     training data set, then utilize those to transform the test and val sets\n",
    "\n",
    "#     Inputs\n",
    "#     -------\n",
    "#     `X` = The vectorized image array\n",
    "#     `y` = The class the image is associated with\n",
    "#     `sets` = The [train, test, val] assignements\n",
    "#     `pca_dim` = The number of dimensions to reduce to\n",
    "\n",
    "#     Returns\n",
    "#     ------\n",
    "#     `df_pca` = The pandas data frame representation of reduced images.\n",
    "\n",
    "#     \"\"\"\n",
    "#     # === slice out train test split ===\n",
    "    \n",
    "#     ## construct pandas dataframe for easier slicing\n",
    "#     df = pd.DataFrame(X)\n",
    "#     df['y'] = y\n",
    "#     df['set'] = sets \n",
    "\n",
    "#     ## slice out the sets\n",
    "#     X_train = df[df['set'] == 'train'].drop(['y', 'set'], axis = 1).to_numpy()\n",
    "#     y_train = df[df['set'] == 'train']['y'].reset_index(drop = True)\n",
    "#     X_test = df[df['set'] == 'test'].drop(['y', 'set'], axis = 1).to_numpy()\n",
    "#     y_test = df[df['set'] == 'test']['y'].reset_index(drop = True)\n",
    "#     X_val = df[df['set'] == 'validate'].drop(['y', 'set'], axis = 1).to_numpy()\n",
    "#     y_val = df[df['set'] == 'validate']['y'].reset_index(drop = True)\n",
    "\n",
    "#     # === perform PCA  on training component ===\n",
    "#     # === use that to transform test and val ===\n",
    "#     pca = PCA(n_components = pca_dim)\n",
    "#     X_train_pca = pca.fit_transform(X_train)  \n",
    "#     X_test_pca = pca.transform(X_test)\n",
    "#     X_val_pca = pca.transform(X_val)\n",
    "    \n",
    "#     # === store to pandas dataframe ===\n",
    "#     colnames = ['pca' + str(i) for i in range(pca_dim)]\n",
    "\n",
    "#     ## train\n",
    "#     df_pca_train = pd.DataFrame(X_train_pca, columns = colnames)\n",
    "#     df_pca_train['y'] = y_train\n",
    "#     df_pca_train['set'] = 'train' \n",
    "\n",
    "#     ## test\n",
    "#     df_pca_test = pd.DataFrame(X_test_pca, columns = colnames)\n",
    "#     df_pca_test['y'] = y_test\n",
    "#     df_pca_test['set'] = 'test' \n",
    "\n",
    "#     ## val\n",
    "#     df_pca_val = pd.DataFrame(X_val_pca, columns = colnames)\n",
    "#     df_pca_val['y'] = y_val\n",
    "#     df_pca_val['set'] = 'validate' \n",
    "\n",
    "#     ## merge all together\n",
    "#     df_pca = pd.concat([df_pca_train, df_pca_test, df_pca_val])\\\n",
    "#         .reset_index(drop = True)\n",
    "\n",
    "#     return df_pca\n",
    "\n",
    "# # %%\n",
    "# # run through workflow and save to csv\n",
    "# train, test, val = read_path_assignments_to_tuple_list()\n",
    "# sets, y, X = convert_tuple_list_to_sklearn_objects(train, test, val)\n",
    "# final_df = pca_and_convert_to_pandas(X, y, sets)\n",
    "# final_df.to_csv('Pnuemonia Images PCA Reduced.csv')"
   ]
  },
  {
   "cell_type": "markdown",
   "id": "17f1c157-19d9-4323-92f0-60f5df54ba09",
   "metadata": {},
   "source": [
    "## Import Packages And Data"
   ]
  },
  {
   "cell_type": "code",
   "execution_count": 5,
   "id": "1de35aa8",
   "metadata": {},
   "outputs": [],
   "source": [
    "import numpy as np\n",
    "import pandas as pd\n",
    "import matplotlib.pyplot as plt\n",
    "import seaborn as sns\n",
    "\n",
    "from sklearn.neighbors import KNeighborsClassifier\n",
    "from sklearn.linear_model import LogisticRegression\n",
    "from sklearn.tree import DecisionTreeClassifier\n",
    "from sklearn.ensemble import RandomForestClassifier\n",
    "from sklearn.svm import SVC\n",
    "from xgboost import XGBClassifier\n",
    "\n",
    "from sklearn.model_selection import GridSearchCV\n",
    "\n",
    "from sklearn.metrics import classification_report\n",
    "from sklearn.metrics import confusion_matrix\n",
    "from sklearn.metrics import accuracy_score\n",
    "\n",
    "import joblib"
   ]
  },
  {
   "cell_type": "code",
   "execution_count": 6,
   "id": "15604fe5",
   "metadata": {},
   "outputs": [],
   "source": [
    "final_df = pd.read_csv('Pnuemonia Images PCA Reduced.csv')\n",
    "final_df.replace({'normal':0, 'virus': 1, 'bacteria': 2},inplace=True)"
   ]
  },
  {
   "cell_type": "code",
   "execution_count": 7,
   "id": "c895fe0f",
   "metadata": {},
   "outputs": [],
   "source": [
    "X_train = final_df[final_df['set']=='train'].drop(['y', 'set'], axis=1).to_numpy()\n",
    "X_test  = final_df[final_df['set']=='test'].drop(['y', 'set'], axis=1).to_numpy()\n",
    "X_val  = final_df[final_df['set']=='validate'].drop(['y', 'set'], axis=1).to_numpy()"
   ]
  },
  {
   "cell_type": "code",
   "execution_count": 8,
   "id": "ed2a6ba3",
   "metadata": {},
   "outputs": [],
   "source": [
    "y_train = final_df['y'][final_df['set']=='train'].to_numpy()\n",
    "y_test = final_df['y'][final_df['set']=='test'].to_numpy()\n",
    "y_val = final_df['y'][final_df['set']=='validate'].to_numpy()"
   ]
  },
  {
   "cell_type": "markdown",
   "id": "5acb6d1f",
   "metadata": {},
   "source": [
    "## Default Model Development"
   ]
  },
  {
   "cell_type": "markdown",
   "id": "c3e345e1-361a-4d39-83f4-58a7335d1c7e",
   "metadata": {},
   "source": [
    "### Define And Fit Models"
   ]
  },
  {
   "cell_type": "code",
   "execution_count": 9,
   "id": "74182a81",
   "metadata": {},
   "outputs": [],
   "source": [
    "#making an instance of each algorithm\n",
    "knn = KNeighborsClassifier(n_neighbors = 10)\n",
    "log_reg  = LogisticRegression()\n",
    "dtc  = DecisionTreeClassifier()\n",
    "rfc = RandomForestClassifier()\n",
    "svm = SVC()\n",
    "xgb = XGBClassifier()"
   ]
  },
  {
   "cell_type": "code",
   "execution_count": 10,
   "id": "8e4f6af1",
   "metadata": {},
   "outputs": [
    {
     "data": {
      "text/html": [
       "<style>#sk-container-id-1 {color: black;}#sk-container-id-1 pre{padding: 0;}#sk-container-id-1 div.sk-toggleable {background-color: white;}#sk-container-id-1 label.sk-toggleable__label {cursor: pointer;display: block;width: 100%;margin-bottom: 0;padding: 0.3em;box-sizing: border-box;text-align: center;}#sk-container-id-1 label.sk-toggleable__label-arrow:before {content: \"▸\";float: left;margin-right: 0.25em;color: #696969;}#sk-container-id-1 label.sk-toggleable__label-arrow:hover:before {color: black;}#sk-container-id-1 div.sk-estimator:hover label.sk-toggleable__label-arrow:before {color: black;}#sk-container-id-1 div.sk-toggleable__content {max-height: 0;max-width: 0;overflow: hidden;text-align: left;background-color: #f0f8ff;}#sk-container-id-1 div.sk-toggleable__content pre {margin: 0.2em;color: black;border-radius: 0.25em;background-color: #f0f8ff;}#sk-container-id-1 input.sk-toggleable__control:checked~div.sk-toggleable__content {max-height: 200px;max-width: 100%;overflow: auto;}#sk-container-id-1 input.sk-toggleable__control:checked~label.sk-toggleable__label-arrow:before {content: \"▾\";}#sk-container-id-1 div.sk-estimator input.sk-toggleable__control:checked~label.sk-toggleable__label {background-color: #d4ebff;}#sk-container-id-1 div.sk-label input.sk-toggleable__control:checked~label.sk-toggleable__label {background-color: #d4ebff;}#sk-container-id-1 input.sk-hidden--visually {border: 0;clip: rect(1px 1px 1px 1px);clip: rect(1px, 1px, 1px, 1px);height: 1px;margin: -1px;overflow: hidden;padding: 0;position: absolute;width: 1px;}#sk-container-id-1 div.sk-estimator {font-family: monospace;background-color: #f0f8ff;border: 1px dotted black;border-radius: 0.25em;box-sizing: border-box;margin-bottom: 0.5em;}#sk-container-id-1 div.sk-estimator:hover {background-color: #d4ebff;}#sk-container-id-1 div.sk-parallel-item::after {content: \"\";width: 100%;border-bottom: 1px solid gray;flex-grow: 1;}#sk-container-id-1 div.sk-label:hover label.sk-toggleable__label {background-color: #d4ebff;}#sk-container-id-1 div.sk-serial::before {content: \"\";position: absolute;border-left: 1px solid gray;box-sizing: border-box;top: 0;bottom: 0;left: 50%;z-index: 0;}#sk-container-id-1 div.sk-serial {display: flex;flex-direction: column;align-items: center;background-color: white;padding-right: 0.2em;padding-left: 0.2em;position: relative;}#sk-container-id-1 div.sk-item {position: relative;z-index: 1;}#sk-container-id-1 div.sk-parallel {display: flex;align-items: stretch;justify-content: center;background-color: white;position: relative;}#sk-container-id-1 div.sk-item::before, #sk-container-id-1 div.sk-parallel-item::before {content: \"\";position: absolute;border-left: 1px solid gray;box-sizing: border-box;top: 0;bottom: 0;left: 50%;z-index: -1;}#sk-container-id-1 div.sk-parallel-item {display: flex;flex-direction: column;z-index: 1;position: relative;background-color: white;}#sk-container-id-1 div.sk-parallel-item:first-child::after {align-self: flex-end;width: 50%;}#sk-container-id-1 div.sk-parallel-item:last-child::after {align-self: flex-start;width: 50%;}#sk-container-id-1 div.sk-parallel-item:only-child::after {width: 0;}#sk-container-id-1 div.sk-dashed-wrapped {border: 1px dashed gray;margin: 0 0.4em 0.5em 0.4em;box-sizing: border-box;padding-bottom: 0.4em;background-color: white;}#sk-container-id-1 div.sk-label label {font-family: monospace;font-weight: bold;display: inline-block;line-height: 1.2em;}#sk-container-id-1 div.sk-label-container {text-align: center;}#sk-container-id-1 div.sk-container {/* jupyter's `normalize.less` sets `[hidden] { display: none; }` but bootstrap.min.css set `[hidden] { display: none !important; }` so we also need the `!important` here to be able to override the default hidden behavior on the sphinx rendered scikit-learn.org. See: https://github.com/scikit-learn/scikit-learn/issues/21755 */display: inline-block !important;position: relative;}#sk-container-id-1 div.sk-text-repr-fallback {display: none;}</style><div id=\"sk-container-id-1\" class=\"sk-top-container\"><div class=\"sk-text-repr-fallback\"><pre>XGBClassifier(base_score=None, booster=None, callbacks=None,\n",
       "              colsample_bylevel=None, colsample_bynode=None,\n",
       "              colsample_bytree=None, early_stopping_rounds=None,\n",
       "              enable_categorical=False, eval_metric=None, feature_types=None,\n",
       "              gamma=None, gpu_id=None, grow_policy=None, importance_type=None,\n",
       "              interaction_constraints=None, learning_rate=None, max_bin=None,\n",
       "              max_cat_threshold=None, max_cat_to_onehot=None,\n",
       "              max_delta_step=None, max_depth=None, max_leaves=None,\n",
       "              min_child_weight=None, missing=nan, monotone_constraints=None,\n",
       "              n_estimators=100, n_jobs=None, num_parallel_tree=None,\n",
       "              objective=&#x27;multi:softprob&#x27;, predictor=None, ...)</pre><b>In a Jupyter environment, please rerun this cell to show the HTML representation or trust the notebook. <br />On GitHub, the HTML representation is unable to render, please try loading this page with nbviewer.org.</b></div><div class=\"sk-container\" hidden><div class=\"sk-item\"><div class=\"sk-estimator sk-toggleable\"><input class=\"sk-toggleable__control sk-hidden--visually\" id=\"sk-estimator-id-1\" type=\"checkbox\" checked><label for=\"sk-estimator-id-1\" class=\"sk-toggleable__label sk-toggleable__label-arrow\">XGBClassifier</label><div class=\"sk-toggleable__content\"><pre>XGBClassifier(base_score=None, booster=None, callbacks=None,\n",
       "              colsample_bylevel=None, colsample_bynode=None,\n",
       "              colsample_bytree=None, early_stopping_rounds=None,\n",
       "              enable_categorical=False, eval_metric=None, feature_types=None,\n",
       "              gamma=None, gpu_id=None, grow_policy=None, importance_type=None,\n",
       "              interaction_constraints=None, learning_rate=None, max_bin=None,\n",
       "              max_cat_threshold=None, max_cat_to_onehot=None,\n",
       "              max_delta_step=None, max_depth=None, max_leaves=None,\n",
       "              min_child_weight=None, missing=nan, monotone_constraints=None,\n",
       "              n_estimators=100, n_jobs=None, num_parallel_tree=None,\n",
       "              objective=&#x27;multi:softprob&#x27;, predictor=None, ...)</pre></div></div></div></div></div>"
      ],
      "text/plain": [
       "XGBClassifier(base_score=None, booster=None, callbacks=None,\n",
       "              colsample_bylevel=None, colsample_bynode=None,\n",
       "              colsample_bytree=None, early_stopping_rounds=None,\n",
       "              enable_categorical=False, eval_metric=None, feature_types=None,\n",
       "              gamma=None, gpu_id=None, grow_policy=None, importance_type=None,\n",
       "              interaction_constraints=None, learning_rate=None, max_bin=None,\n",
       "              max_cat_threshold=None, max_cat_to_onehot=None,\n",
       "              max_delta_step=None, max_depth=None, max_leaves=None,\n",
       "              min_child_weight=None, missing=nan, monotone_constraints=None,\n",
       "              n_estimators=100, n_jobs=None, num_parallel_tree=None,\n",
       "              objective='multi:softprob', predictor=None, ...)"
      ]
     },
     "execution_count": 10,
     "metadata": {},
     "output_type": "execute_result"
    }
   ],
   "source": [
    "#fitting each model using X_train and y_train\n",
    "knn.fit(X_train, y_train)\n",
    "log_reg.fit(X_train, y_train)\n",
    "dtc.fit(X_train, y_train)\n",
    "rfc.fit(X_train, y_train)\n",
    "svm.fit(X_train, y_train)\n",
    "xgb.fit(X_train, y_train)"
   ]
  },
  {
   "cell_type": "markdown",
   "id": "8cc5c55a-2736-4d27-8740-8123eb498871",
   "metadata": {},
   "source": [
    "### Report On Accuracy"
   ]
  },
  {
   "cell_type": "code",
   "execution_count": 11,
   "id": "f25c7c22",
   "metadata": {},
   "outputs": [
    {
     "name": "stdout",
     "output_type": "stream",
     "text": [
      "KNN accuracy score is: 0.3310344827586207\n",
      "Logistic Regression accuracy score is: 0.7448275862068966\n",
      "Decision Tree Classifier accuracy score is: 0.6\n",
      "Random forests Classifier accuracy score is: 0.7718390804597701\n",
      "Support Vector Machine Classifier accuracy score is: 0.3333333333333333\n"
     ]
    }
   ],
   "source": [
    "#scoring each model\n",
    "print('KNN accuracy score is: ' + str(knn.score(X_test, y_test)))\n",
    "print('Logistic Regression accuracy score is: ' + str(log_reg.score(X_test, y_test)))\n",
    "print('Decision Tree Classifier accuracy score is: ' + str(dtc.score(X_test, y_test)))\n",
    "print('Random forests Classifier accuracy score is: ' + str(rfc.score(X_test, y_test)))\n",
    "print('Support Vector Machine Classifier accuracy score is: ' + str(svm.score(X_test, y_test)))"
   ]
  },
  {
   "cell_type": "code",
   "execution_count": 12,
   "id": "7f229f08",
   "metadata": {},
   "outputs": [
    {
     "name": "stdout",
     "output_type": "stream",
     "text": [
      "XGBoost accuracy score is: 0.753448275862069\n"
     ]
    }
   ],
   "source": [
    "xgb_predicted = xgb.predict(X_test)\n",
    "print('XGBoost accuracy score is: ' + str(accuracy_score(y_test,xgb_predicted)))"
   ]
  },
  {
   "cell_type": "code",
   "execution_count": 13,
   "id": "c82b9209",
   "metadata": {},
   "outputs": [],
   "source": [
    "base_scores = {'knn':str(knn.score(X_test, y_test)), \n",
    "               'lg':str(log_reg.score(X_test, y_test)), \n",
    "               'dt':str(dtc.score(X_test, y_test)), \n",
    "               'rf':str(rfc.score(X_test, y_test)), \n",
    "               'svm':str(svm.score(X_test, y_test)), \n",
    "               'xgb': str(accuracy_score(y_test,xgb_predicted))}\n",
    "\n",
    "base_scores_df = pd.DataFrame(base_scores, index=[0])\n",
    "base_scores_df.to_csv(\"base_acc_scores_df.csv\")"
   ]
  },
  {
   "cell_type": "code",
   "execution_count": 14,
   "id": "b55a9b62",
   "metadata": {},
   "outputs": [],
   "source": [
    "#making predictions for each model\n",
    "knn_predicted = knn.predict(X_test)\n",
    "log_reg_predicted = log_reg.predict(X_test)\n",
    "dtc_predicted = dtc.predict(X_test)\n",
    "rfc_predicted = rfc.predict(X_test)\n",
    "svm_predicted = svm.predict(X_test)"
   ]
  },
  {
   "cell_type": "code",
   "execution_count": 15,
   "id": "3d38c340",
   "metadata": {},
   "outputs": [],
   "source": [
    "#function to plot the confusion matrix for each model\n",
    "def plot_cm(predictions, y_test, title):\n",
    "    labels = ['Normal', 'virus', 'bacteria']\n",
    "    cm = confusion_matrix(y_test,predictions)\n",
    "    cm = pd.DataFrame(cm , index = ['0','1','2'] , columns = ['0','1','2'])\n",
    "    plt.figure(figsize = (7,7))\n",
    "    plt.title(title)\n",
    "    sns.heatmap(cm, linecolor = 'black' , linewidth = 1 , annot = True, fmt='', xticklabels = labels, yticklabels = labels)\n",
    "    plt.savefig(title+'.png')\n",
    "    plt.show()"
   ]
  },
  {
   "cell_type": "code",
   "execution_count": 16,
   "id": "2ae285c4",
   "metadata": {},
   "outputs": [
    {
     "data": {
      "image/png": "[encoded data removed]",
      "text/plain": [
       "<Figure size 700x700 with 2 Axes>"
      ]
     },
     "metadata": {},
     "output_type": "display_data"
    },
    {
     "data": {
      "image/png": "[encoded data removed]",
      "text/plain": [
       "<Figure size 700x700 with 2 Axes>"
      ]
     },
     "metadata": {},
     "output_type": "display_data"
    },
    {
     "data": {
      "image/png": "[encoded data removed]",
      "text/plain": [
       "<Figure size 700x700 with 2 Axes>"
      ]
     },
     "metadata": {},
     "output_type": "display_data"
    },
    {
     "data": {
      "image/png": "[encoded data removed]",
      "text/plain": [
       "<Figure size 700x700 with 2 Axes>"
      ]
     },
     "metadata": {},
     "output_type": "display_data"
    },
    {
     "data": {
      "image/png": "[encoded data removed]",
      "text/plain": [
       "<Figure size 700x700 with 2 Axes>"
      ]
     },
     "metadata": {},
     "output_type": "display_data"
    },
    {
     "data": {
      "image/png": "[encoded data removed]",
      "text/plain": [
       "<Figure size 700x700 with 2 Axes>"
      ]
     },
     "metadata": {},
     "output_type": "display_data"
    }
   ],
   "source": [
    "#plot confusion matrix for each model\n",
    "plot_cm(knn_predicted, y_test, 'KNN Confusion Matrix (base)')\n",
    "plot_cm(log_reg_predicted, y_test, 'Logistic Regression Confusion Matrix (base)') \n",
    "plot_cm(dtc_predicted, y_test, 'Decision Tree Confusion Matrix (base)')\n",
    "plot_cm(rfc_predicted, y_test, 'Random Forests Confusion Matrix (base)')\n",
    "plot_cm(svm_predicted, y_test, 'Support Vector Machine Confusion Matrix (base)')\n",
    "plot_cm(xgb_predicted, y_test, 'XGBoost Confusion Matrix (base)')"
   ]
  },
  {
   "cell_type": "code",
   "execution_count": 17,
   "id": "b0cb8fd6",
   "metadata": {},
   "outputs": [],
   "source": [
    "def classification_report_csv(report, title):\n",
    "    report_data = []\n",
    "    lines = report.split('\\n')\n",
    "    for line in lines[2:-5]:\n",
    "        row = {}\n",
    "        row_data = line.split('      ')\n",
    "        row['class'] = row_data[0]\n",
    "        row['precision'] = float(row_data[1])\n",
    "        row['recall'] = float(row_data[2])\n",
    "        row['f1_score'] = float(row_data[3])\n",
    "        row['support'] = float(row_data[4])\n",
    "        report_data.append(row)\n",
    "    dum = lines[6].split('      ')\n",
    "    row1 = {}\n",
    "    row1['class'] = dum[0]\n",
    "    row1['precision'] = ''\n",
    "    row1['recall'] = ''\n",
    "    row1['f1_score'] = float(dum[4])\n",
    "    row1['support'] = float(dum[5])\n",
    "    report_data.append(row1)\n",
    "    dataframe = pd.DataFrame.from_dict(report_data)\n",
    "    dataframe.to_csv(title+'.csv', index = False)"
   ]
  },
  {
   "cell_type": "code",
   "execution_count": 18,
   "id": "5fc1b053",
   "metadata": {},
   "outputs": [
    {
     "name": "stdout",
     "output_type": "stream",
     "text": [
      "              precision    recall  f1-score   support\n",
      "\n",
      "  Normal (0)       0.35      0.01      0.02       580\n",
      "   Virus (1)       0.00      0.00      0.00       580\n",
      "Bacteria (2)       0.33      0.98      0.49       580\n",
      "\n",
      "    accuracy                           0.33      1740\n",
      "   macro avg       0.23      0.33      0.17      1740\n",
      "weighted avg       0.23      0.33      0.17      1740\n",
      "\n"
     ]
    }
   ],
   "source": [
    "#KNN classification report \n",
    "report = classification_report(y_test, knn_predicted, target_names= ['Normal (0)', 'Virus (1)', 'Bacteria (2)'])\n",
    "classification_report_csv(report,'KNN Classification report (base)')\n",
    "print(report)"
   ]
  },
  {
   "cell_type": "code",
   "execution_count": 19,
   "id": "c697fc3c",
   "metadata": {},
   "outputs": [
    {
     "name": "stdout",
     "output_type": "stream",
     "text": [
      "              precision    recall  f1-score   support\n",
      "\n",
      "  Normal (0)       0.91      0.83      0.87       580\n",
      "   Virus (1)       0.61      0.81      0.69       580\n",
      "Bacteria (2)       0.79      0.60      0.68       580\n",
      "\n",
      "    accuracy                           0.74      1740\n",
      "   macro avg       0.77      0.74      0.75      1740\n",
      "weighted avg       0.77      0.74      0.75      1740\n",
      "\n"
     ]
    }
   ],
   "source": [
    "#Logistic Regression classification report \n",
    "report = classification_report(y_test, log_reg_predicted, target_names= ['Normal (0)', 'Virus (1)', 'Bacteria (2)'])\n",
    "classification_report_csv(report,'Logistic Regression Classification report (base)')\n",
    "print(report)"
   ]
  },
  {
   "cell_type": "code",
   "execution_count": 20,
   "id": "6b9c512f",
   "metadata": {},
   "outputs": [
    {
     "name": "stdout",
     "output_type": "stream",
     "text": [
      "              precision    recall  f1-score   support\n",
      "\n",
      "  Normal (0)       0.77      0.66      0.71       580\n",
      "   Virus (1)       0.47      0.46      0.47       580\n",
      "Bacteria (2)       0.58      0.68      0.63       580\n",
      "\n",
      "    accuracy                           0.60      1740\n",
      "   macro avg       0.61      0.60      0.60      1740\n",
      "weighted avg       0.61      0.60      0.60      1740\n",
      "\n"
     ]
    }
   ],
   "source": [
    "#Decision Tree classification report \n",
    "report = classification_report(y_test, dtc_predicted, target_names= ['Normal (0)', 'Virus (1)', 'Bacteria (2)'])\n",
    "classification_report_csv(report,'Decision Tree Classification report (base)')\n",
    "print(report)"
   ]
  },
  {
   "cell_type": "code",
   "execution_count": 21,
   "id": "f5283ce8",
   "metadata": {},
   "outputs": [
    {
     "name": "stdout",
     "output_type": "stream",
     "text": [
      "              precision    recall  f1-score   support\n",
      "\n",
      "  Normal (0)       0.88      0.89      0.88       580\n",
      "   Virus (1)       0.75      0.60      0.67       580\n",
      "Bacteria (2)       0.69      0.82      0.75       580\n",
      "\n",
      "    accuracy                           0.77      1740\n",
      "   macro avg       0.77      0.77      0.77      1740\n",
      "weighted avg       0.77      0.77      0.77      1740\n",
      "\n"
     ]
    }
   ],
   "source": [
    "#Random Forest classification report \n",
    "report = classification_report(y_test, rfc_predicted, target_names= ['Normal (0)', 'Virus (1)', 'Bacteria (2)'])\n",
    "classification_report_csv(report,'Random Forests Classification report (base)')\n",
    "print(report)"
   ]
  },
  {
   "cell_type": "code",
   "execution_count": 22,
   "id": "39ca7ebd",
   "metadata": {},
   "outputs": [
    {
     "name": "stdout",
     "output_type": "stream",
     "text": [
      "              precision    recall  f1-score   support\n",
      "\n",
      "  Normal (0)       0.33      1.00      0.50       580\n",
      "   Virus (1)       0.00      0.00      0.00       580\n",
      "Bacteria (2)       0.00      0.00      0.00       580\n",
      "\n",
      "    accuracy                           0.33      1740\n",
      "   macro avg       0.11      0.33      0.17      1740\n",
      "weighted avg       0.11      0.33      0.17      1740\n",
      "\n"
     ]
    }
   ],
   "source": [
    "#SVM classification report \n",
    "report = classification_report(y_test, svm_predicted, target_names= ['Normal (0)', 'Virus (1)', 'Bacteria (2)'])\n",
    "classification_report_csv(report,'Support Vector Machine Classification report (base)')\n",
    "print(report)"
   ]
  },
  {
   "cell_type": "code",
   "execution_count": 23,
   "id": "f33cf1b6",
   "metadata": {},
   "outputs": [
    {
     "name": "stdout",
     "output_type": "stream",
     "text": [
      "              precision    recall  f1-score   support\n",
      "\n",
      "  Normal (0)       0.90      0.91      0.90       580\n",
      "   Virus (1)       0.77      0.49      0.60       580\n",
      "Bacteria (2)       0.64      0.86      0.73       580\n",
      "\n",
      "    accuracy                           0.75      1740\n",
      "   macro avg       0.77      0.75      0.75      1740\n",
      "weighted avg       0.77      0.75      0.75      1740\n",
      "\n"
     ]
    }
   ],
   "source": [
    "#XGBoost classification report \n",
    "report = classification_report(y_test, xgb_predicted, target_names= ['Normal (0)', 'Virus (1)', 'Bacteria (2)'])\n",
    "classification_report_csv(report,'XGBoost Classification report (base)')\n",
    "print(report)"
   ]
  },
  {
   "cell_type": "markdown",
   "id": "c2952c12",
   "metadata": {},
   "source": [
    "## Hyperparamter tuning"
   ]
  },
  {
   "cell_type": "markdown",
   "id": "22244e5f-edab-4c3f-ab7d-afedd9f5aa27",
   "metadata": {},
   "source": [
    "### KNN"
   ]
  },
  {
   "cell_type": "code",
   "execution_count": 24,
   "id": "5da4de9d",
   "metadata": {},
   "outputs": [
    {
     "name": "stdout",
     "output_type": "stream",
     "text": [
      "Fitting 10 folds for each of 19 candidates, totalling 190 fits\n",
      "{'n_neighbors': 1}\n",
      "Accuracy for our training dataset with tuning is : 26.08%\n"
     ]
    }
   ],
   "source": [
    "#knn tunning\n",
    "knn_ht = KNeighborsClassifier()\n",
    "k_range = list(range(1, 20))\n",
    "param_grid = dict(n_neighbors=k_range)\n",
    "  \n",
    "# defining parameter range\n",
    "grid_knn = GridSearchCV(knn_ht, param_grid, cv=10, scoring='accuracy', return_train_score=False,verbose=1)\n",
    "  \n",
    "# fitting the model for grid search\n",
    "grid_search_knn=grid_knn.fit(X_train, y_train)\n",
    "\n",
    "print(grid_search_knn.best_params_)\n",
    "accuracy = grid_search_knn.best_score_ *100\n",
    "print(\"Accuracy for our training dataset with tuning is : {:.2f}%\".format(accuracy) )"
   ]
  },
  {
   "cell_type": "code",
   "execution_count": 25,
   "id": "430d24e9",
   "metadata": {},
   "outputs": [
    {
     "data": {
      "text/plain": [
       "['grid_search_knn.joblib']"
      ]
     },
     "execution_count": 25,
     "metadata": {},
     "output_type": "execute_result"
    }
   ],
   "source": [
    "best_params_knn = grid_search_knn.best_params_\n",
    "\n",
    "joblib.dump(grid_search_knn, 'grid_search_knn.joblib')\n",
    "#loaded_grid_search = joblib.load('grid_search_knn.joblib')"
   ]
  },
  {
   "cell_type": "code",
   "execution_count": 26,
   "id": "28d05655",
   "metadata": {},
   "outputs": [
    {
     "name": "stdout",
     "output_type": "stream",
     "text": [
      "Accuracy for our testing dataset with tuning is : 33.51%\n"
     ]
    },
    {
     "data": {
      "image/png": "[encoded data removed]",
      "text/plain": [
       "<Figure size 700x700 with 2 Axes>"
      ]
     },
     "metadata": {},
     "output_type": "display_data"
    },
    {
     "name": "stdout",
     "output_type": "stream",
     "text": [
      "              precision    recall  f1-score   support\n",
      "\n",
      "  Normal (0)       0.46      0.01      0.02       580\n",
      "   Virus (1)       0.00      0.00      0.00       580\n",
      "Bacteria (2)       0.33      0.99      0.50       580\n",
      "\n",
      "    accuracy                           0.34      1740\n",
      "   macro avg       0.27      0.34      0.17      1740\n",
      "weighted avg       0.27      0.34      0.17      1740\n",
      "\n"
     ]
    }
   ],
   "source": [
    "knn_bm = KNeighborsClassifier(n_neighbors=best_params_knn['n_neighbors'])\n",
    "knn_bm.fit(X_train, y_train)\n",
    "y_test_hat=knn_bm.predict(X_test) \n",
    "test_accuracy=accuracy_score(y_test,y_test_hat)*100\n",
    "print(\"Accuracy for our testing dataset with tuning is : {:.2f}%\".format(test_accuracy) )\n",
    "plot_cm(y_test_hat, y_test, 'KNN Confusion Matrix (bm)')\n",
    "\n",
    "report = classification_report(y_test, y_test_hat, target_names= ['Normal (0)', 'Virus (1)', 'Bacteria (2)'])\n",
    "classification_report_csv(report,'knn Classification report (bm)')\n",
    "print(report)"
   ]
  },
  {
   "cell_type": "markdown",
   "id": "f929ef39-3a23-4095-876e-5683359053ef",
   "metadata": {},
   "source": [
    "### Logistic Regression"
   ]
  },
  {
   "cell_type": "code",
   "execution_count": 27,
   "id": "3b8999b4",
   "metadata": {},
   "outputs": [
    {
     "name": "stdout",
     "output_type": "stream",
     "text": [
      "Fitting 10 folds for each of 42 candidates, totalling 420 fits\n",
      "{'C': 0.1, 'penalty': 'l2', 'solver': 'newton-cg'}\n",
      "Accuracy for our training dataset with tuning is : 73.82%\n"
     ]
    }
   ],
   "source": [
    "#logistic regression tunning\n",
    "log_ht = LogisticRegression()\n",
    "param_grid = {\n",
    "    'penalty' : ['l1','l2'], \n",
    "    'C'       : np.logspace(-3,3,7),\n",
    "    'solver'  : ['newton-cg', 'lbfgs', 'liblinear'],\n",
    "}\n",
    " \n",
    "# defining parameter range\n",
    "grid_log = GridSearchCV(log_ht, param_grid, cv=10, scoring='accuracy', return_train_score=False,verbose=1)\n",
    "  \n",
    "# fitting the model for grid search\n",
    "grid_search_log=grid_log.fit(X_train, y_train)\n",
    "\n",
    "print(grid_search_log.best_params_)\n",
    "accuracy = grid_search_log.best_score_ *100\n",
    "print(\"Accuracy for our training dataset with tuning is : {:.2f}%\".format(accuracy) )"
   ]
  },
  {
   "cell_type": "code",
   "execution_count": 28,
   "id": "33124414",
   "metadata": {},
   "outputs": [
    {
     "data": {
      "text/plain": [
       "['grid_search_log.joblib']"
      ]
     },
     "execution_count": 28,
     "metadata": {},
     "output_type": "execute_result"
    }
   ],
   "source": [
    "best_params_log = grid_search_log.best_params_\n",
    "\n",
    "joblib.dump(grid_search_log, 'grid_search_log.joblib')\n",
    "#loaded_grid_search = joblib.load('grid_search_log.joblib')"
   ]
  },
  {
   "cell_type": "code",
   "execution_count": 29,
   "id": "d6a88ae5",
   "metadata": {},
   "outputs": [
    {
     "name": "stdout",
     "output_type": "stream",
     "text": [
      "Accuracy for our testing dataset with tuning is : 76.72%\n"
     ]
    },
    {
     "data": {
      "image/png": "[encoded data removed]",
      "text/plain": [
       "<Figure size 700x700 with 2 Axes>"
      ]
     },
     "metadata": {},
     "output_type": "display_data"
    },
    {
     "name": "stdout",
     "output_type": "stream",
     "text": [
      "              precision    recall  f1-score   support\n",
      "\n",
      "  Normal (0)       0.90      0.87      0.88       580\n",
      "   Virus (1)       0.65      0.80      0.71       580\n",
      "Bacteria (2)       0.80      0.64      0.71       580\n",
      "\n",
      "    accuracy                           0.77      1740\n",
      "   macro avg       0.78      0.77      0.77      1740\n",
      "weighted avg       0.78      0.77      0.77      1740\n",
      "\n"
     ]
    }
   ],
   "source": [
    "log_bm = LogisticRegression(C= best_params_log['C'], \n",
    "                            penalty= best_params_log['penalty'], \n",
    "                            solver= best_params_log['solver'])\n",
    "log_bm.fit(X_train, y_train)\n",
    "y_test_hat=log_bm.predict(X_test) \n",
    "test_accuracy=accuracy_score(y_test,y_test_hat)*100\n",
    "print(\"Accuracy for our testing dataset with tuning is : {:.2f}%\".format(test_accuracy) )\n",
    "plot_cm(y_test_hat, y_test, 'Logistic regression Confusion Matrix (bm)')\n",
    "\n",
    "report = classification_report(y_test, y_test_hat, target_names= ['Normal (0)', 'Virus (1)', 'Bacteria (2)'])\n",
    "classification_report_csv(report,'Logistic regression Classification report (bm)')\n",
    "print(report)"
   ]
  },
  {
   "cell_type": "markdown",
   "id": "a9a1bad1-92a4-473c-900d-a8767d6e7bff",
   "metadata": {},
   "source": [
    "### Decision Tree"
   ]
  },
  {
   "cell_type": "code",
   "execution_count": 30,
   "id": "a5a46824",
   "metadata": {},
   "outputs": [
    {
     "name": "stdout",
     "output_type": "stream",
     "text": [
      "Fitting 10 folds for each of 392 candidates, totalling 3920 fits\n",
      "{'criterion': 'gini', 'max_depth': 6, 'min_samples_leaf': 4, 'min_samples_split': 5}\n",
      "Accuracy for our training dataset with tuning is : 67.26%\n"
     ]
    }
   ],
   "source": [
    "#Decision Tree tunning\n",
    "dtc_ht = DecisionTreeClassifier()\n",
    "param_grid = {\n",
    "    'criterion' : ['gini','entropy'],\n",
    "    'max_depth' : range(1,8),\n",
    "    'min_samples_split': range(1,8),\n",
    "    'min_samples_leaf': range(1,5),\n",
    "}\n",
    " \n",
    "# defining parameter range\n",
    "grid_dtc = GridSearchCV(dtc_ht, param_grid, cv=10, scoring='accuracy', return_train_score=False,verbose=1)\n",
    "  \n",
    "# fitting the model for grid search\n",
    "grid_search_dtc=grid_dtc.fit(X_train, y_train)\n",
    "\n",
    "print(grid_search_dtc.best_params_)\n",
    "accuracy = grid_search_dtc.best_score_ *100\n",
    "print(\"Accuracy for our training dataset with tuning is : {:.2f}%\".format(accuracy) )"
   ]
  },
  {
   "cell_type": "code",
   "execution_count": 31,
   "id": "b3e1f30d",
   "metadata": {},
   "outputs": [
    {
     "data": {
      "text/plain": [
       "['grid_search_dtc.joblib']"
      ]
     },
     "execution_count": 31,
     "metadata": {},
     "output_type": "execute_result"
    }
   ],
   "source": [
    "best_params_dtc = grid_search_dtc.best_params_\n",
    "\n",
    "joblib.dump(grid_search_dtc, 'grid_search_dtc.joblib')\n",
    "#loaded_grid_search = joblib.load('grid_search_dtc.joblib')"
   ]
  },
  {
   "cell_type": "code",
   "execution_count": 32,
   "id": "72ab4f82",
   "metadata": {},
   "outputs": [
    {
     "name": "stdout",
     "output_type": "stream",
     "text": [
      "Accuracy for our testing dataset with tuning is : 71.44%\n"
     ]
    },
    {
     "data": {
      "image/png": "[encoded data removed]",
      "text/plain": [
       "<Figure size 700x700 with 2 Axes>"
      ]
     },
     "metadata": {},
     "output_type": "display_data"
    },
    {
     "name": "stdout",
     "output_type": "stream",
     "text": [
      "              precision    recall  f1-score   support\n",
      "\n",
      "  Normal (0)       0.82      0.80      0.81       580\n",
      "   Virus (1)       0.64      0.61      0.62       580\n",
      "Bacteria (2)       0.68      0.73      0.71       580\n",
      "\n",
      "    accuracy                           0.71      1740\n",
      "   macro avg       0.71      0.71      0.71      1740\n",
      "weighted avg       0.71      0.71      0.71      1740\n",
      "\n"
     ]
    }
   ],
   "source": [
    "dtc_bm = DecisionTreeClassifier(criterion = best_params_dtc['criterion'], max_depth= best_params_dtc['max_depth'], \n",
    "                             min_samples_split= best_params_dtc['min_samples_split'], \n",
    "                             min_samples_leaf = best_params_dtc['min_samples_leaf'])\n",
    "dtc_bm.fit(X_train, y_train)\n",
    "y_test_hat=dtc_bm.predict(X_test) \n",
    "test_accuracy=accuracy_score(y_test,y_test_hat)*100\n",
    "print(\"Accuracy for our testing dataset with tuning is : {:.2f}%\".format(test_accuracy) )\n",
    "plot_cm(y_test_hat, y_test, 'Decision Tree Classifier Confusion Matrix (bm)')\n",
    "\n",
    "report = classification_report(y_test, y_test_hat, target_names= ['Normal (0)', 'Virus (1)', 'Bacteria (2)'])\n",
    "classification_report_csv(report,'Decision Tree Classifier Classification report (bm)')\n",
    "print(report)"
   ]
  },
  {
   "cell_type": "markdown",
   "id": "7be09fbd-bbf2-4392-a718-22c5de305528",
   "metadata": {},
   "source": [
    "### Random Forest"
   ]
  },
  {
   "cell_type": "code",
   "execution_count": null,
   "id": "5dd3939d",
   "metadata": {},
   "outputs": [
    {
     "name": "stdout",
     "output_type": "stream",
     "text": [
      "Fitting 10 folds for each of 588 candidates, totalling 5880 fits\n"
     ]
    }
   ],
   "source": [
    "# Random forest tunning\n",
    "rfc_ht = RandomForestClassifier()\n",
    "param_grid = {\n",
    "    'n_estimators': [100, 200, 400],\n",
    "    'max_depth': range(1,8),\n",
    "    'min_samples_split': range(1,8),\n",
    "    'min_samples_leaf': range(1,5),\n",
    "}\n",
    "\n",
    "# defining parameter range\n",
    "grid_rfc = GridSearchCV(rfc_ht, param_grid, cv=10, scoring='accuracy', return_train_score=True,verbose=1)\n",
    "\n",
    "# fitting the model for grid search\n",
    "grid_search_rfc=grid_rfc.fit(X_train, y_train)\n",
    "\n",
    "print(grid_search_rfc.best_params_)\n",
    "accuracy = grid_search_rfc.best_score_ *100\n",
    "print(\"Accuracy for our training dataset with tuning is : {:.2f}%\".format(accuracy))"
   ]
  },
  {
   "cell_type": "code",
   "execution_count": null,
   "id": "2b2b0c15",
   "metadata": {},
   "outputs": [],
   "source": [
    "best_params_rfc = grid_search_rfc.best_params_\n",
    "\n",
    "joblib.dump(grid_search_rfc, 'grid_search_rfc.joblib')\n",
    "# loaded_grid_search = joblib.load('grid_search_rfc.joblib')"
   ]
  },
  {
   "cell_type": "code",
   "execution_count": null,
   "id": "71f46a7c",
   "metadata": {},
   "outputs": [],
   "source": [
    "rfc_bm = RandomForestClassifier(n_estimators = best_params_rfc['n_estimators'], \n",
    "                                max_depth= best_params_rfc['max_depth'], \n",
    "                                min_samples_split= best_params_rfc['min_samples_split'], \n",
    "                                min_samples_leaf = best_params_rfc['min_samples_leaf'])\n",
    "rfc_bm.fit(X_train, y_train)\n",
    "y_test_hat=rfc_bm.predict(X_test) \n",
    "test_accuracy=accuracy_score(y_test,y_test_hat)*100\n",
    "print(\"Accuracy for our testing dataset with tuning is : {:.2f}%\".format(test_accuracy))\n",
    "plot_cm(y_test_hat, y_test, 'Random Forest Classifier Confusion Matrix (bm)')\n",
    "\n",
    "report = classification_report(y_test, y_test_hat, target_names= ['Normal (0)', 'Virus (1)', 'Bacteria (2)'])\n",
    "classification_report_csv(report,'Random Forest Classifier Classification report (bm)')\n",
    "print(report)"
   ]
  },
  {
   "cell_type": "markdown",
   "id": "0f035dd9-0acf-4e05-993c-66798e4420f6",
   "metadata": {},
   "source": [
    "### SVM"
   ]
  },
  {
   "cell_type": "code",
   "execution_count": null,
   "id": "cb226f0b",
   "metadata": {},
   "outputs": [],
   "source": [
    "#SVM tunning\n",
    "svm_ht = SVC()\n",
    "param_grid = { \n",
    "    'C':[0.1,100,200],\n",
    "    'kernel':['rbf','poly'],\n",
    "    'degree':[2,3,4,5],\n",
    "    'gamma': [1, 0.1, 0.01]\n",
    "    }\n",
    "# defining parameter range\n",
    "grid_svm = GridSearchCV(svm_ht, param_grid, cv=10, scoring='accuracy', return_train_score=False,verbose=1)\n",
    "  \n",
    "# fitting the model for grid search\n",
    "grid_search_svm=grid_svm.fit(X_train, y_train)\n",
    "\n",
    "print(grid_search_svm.best_params_)\n",
    "accuracy = grid_search_svm.best_score_ *100\n",
    "print(\"Accuracy for our training dataset with tuning is : {:.2f}%\".format(accuracy))"
   ]
  },
  {
   "cell_type": "code",
   "execution_count": null,
   "id": "89d54ff9",
   "metadata": {},
   "outputs": [],
   "source": [
    "best_params_svm = grid_search_svm.best_params_\n",
    "\n",
    "joblib.dump(grid_search_svm, 'grid_search_svm.joblib')\n",
    "#loaded_grid_search = joblib.load('grid_search_svm.joblib')"
   ]
  },
  {
   "cell_type": "code",
   "execution_count": null,
   "id": "af205104",
   "metadata": {},
   "outputs": [],
   "source": [
    "svm_bm = SVC(C = best_params_svm['C'], kernel = best_params_svm['kernel'], \n",
    "          degree= best_params_svm['degree'], gamma= best_params_svm['gamma'])\n",
    "svm_bm.fit(X_train, y_train)\n",
    "y_test_hat=svm_bm.predict(X_test) \n",
    "test_accuracy=accuracy_score(y_test,y_test_hat)*100\n",
    "print(\"Accuracy for our testing dataset with tuning is : {:.2f}%\".format(test_accuracy))\n",
    "plot_cm(y_test_hat, y_test, 'SVM Classifier Confusion Matrix (bm)')\n",
    "\n",
    "report = classification_report(y_test, y_test_hat, target_names= ['Normal (0)', 'Virus (1)', 'Bacteria (2)'])\n",
    "classification_report_csv(report,'SVM Classifier Classification report (bm)')\n",
    "print(report)"
   ]
  },
  {
   "cell_type": "markdown",
   "id": "789e6f0f-6728-49eb-bb25-fff28780b40c",
   "metadata": {},
   "source": [
    "### XGBoost"
   ]
  },
  {
   "cell_type": "code",
   "execution_count": null,
   "id": "26b622e9",
   "metadata": {},
   "outputs": [],
   "source": [
    "#XGBoost tunning\n",
    "xgb_ht = XGBClassifier()\n",
    "param_grid = {\n",
    "    'max_depth': range (1, 8),\n",
    "    'n_estimators': [100, 200, 400],\n",
    "    'learning_rate': [1, 0.1, 0.05, 0.01]\n",
    "}\n",
    "# defining parameter range\n",
    "grid_xgb = GridSearchCV(xgb_ht, param_grid, cv=10, scoring='accuracy', return_train_score=False,verbose=1)\n",
    "  \n",
    "# fitting the model for grid search\n",
    "grid_search_xgb=grid_xgb.fit(X_train, y_train)\n",
    "\n",
    "print(grid_search_xgb.best_params_)\n",
    "accuracy = grid_search_xgb.best_score_ *100\n",
    "print(\"Accuracy for our training dataset with tuning is : {:.2f}%\".format(accuracy))"
   ]
  },
  {
   "cell_type": "code",
   "execution_count": null,
   "id": "f632429a",
   "metadata": {},
   "outputs": [],
   "source": [
    "best_params_xgb = grid_search_xgb.best_params_\n",
    "\n",
    "joblib.dump(grid_search_xgb, 'grid_search_xgb.joblib')\n",
    "#loaded_grid_search = joblib.load('grid_search_xgb.joblib')"
   ]
  },
  {
   "cell_type": "code",
   "execution_count": null,
   "id": "54549e4d",
   "metadata": {},
   "outputs": [],
   "source": [
    "xgb_bm = XGBClassifier(max_depth = best_params_xgb['max_depth'], \n",
    "                       n_estimators = best_params_xgb['n_estimators'], \n",
    "                       learning_rate = best_params_xgb['learning_rate'])\n",
    "xgb_bm.fit(X_train, y_train)\n",
    "y_test_hat=xgb_bm.predict(X_test) \n",
    "test_accuracy=accuracy_score(y_test,y_test_hat)*100\n",
    "print(\"Accuracy for our testing dataset with tuning is : {:.2f}%\".format(test_accuracy))\n",
    "plot_cm(y_test_hat, y_test, 'XGBoost Classifier Confusion Matrix (bm)')\n",
    "\n",
    "report = classification_report(y_test, y_test_hat, target_names= ['Normal (0)', 'Virus (1)', 'Bacteria (2)'])\n",
    "classification_report_csv(report,'XGBoost Classifier Classification report (bm)')\n",
    "print(report)"
   ]
  },
  {
   "cell_type": "markdown",
   "id": "96a61a4a",
   "metadata": {},
   "source": [
    "## Convolutional Neural Network"
   ]
  },
  {
   "cell_type": "code",
   "execution_count": null,
   "id": "8c2b386a",
   "metadata": {},
   "outputs": [],
   "source": [
    "import tensorflow.keras as keras\n",
    "from tensorflow.keras.models import Sequential\n",
    "from tensorflow.keras.layers import Conv2D, MaxPooling2D, Flatten, Dense, Dropout\n",
    "from tensorflow.keras.optimizers import Adam\n",
    "from tensorflow.keras.preprocessing.image import ImageDataGenerator\n",
    "from tensorflow.keras.callbacks import EarlyStopping, ModelCheckpoint, ReduceLROnPlateau\n",
    "\n",
    "from tensorflow.random import set_seed\n",
    "set_seed(123)"
   ]
  },
  {
   "cell_type": "code",
   "execution_count": null,
   "id": "c84e5276",
   "metadata": {},
   "outputs": [],
   "source": [
    "# Function to process each row of the dataframe and return a new dataframe\n",
    "def process_row(row):\n",
    "    normal = pd.DataFrame({'class': 'normal', 'image_path': row['normal'], 'set': row['set']})\n",
    "    bacteria = pd.DataFrame({'class': 'bacteria', 'image_path': row['bacteria'], 'set': row['set']})\n",
    "    virus = pd.DataFrame({'class': 'virus', 'image_path': row['virus'], 'set': row['set']})\n",
    "    return pd.concat([normal, bacteria, virus], ignore_index=True)\n",
    "\n",
    "# Apply the function to each row to create a list of dataframes, then concatenate them\n",
    "df = pd.concat(xray_data_df.apply(process_row, axis=1).tolist(), ignore_index=True)\n",
    "\n",
    "# Remove rows with empty image_path\n",
    "df = df[df['image_path'].apply(lambda x: len(x) > 0)]\n",
    "\n",
    "print(df)"
   ]
  },
  {
   "cell_type": "code",
   "execution_count": null,
   "id": "989a8627",
   "metadata": {},
   "outputs": [],
   "source": [
    "train_df = df[df['set']=='train'].copy()\n",
    "train_df.drop(['set'], axis=1, inplace = True)"
   ]
  },
  {
   "cell_type": "code",
   "execution_count": null,
   "id": "42a5b7e8",
   "metadata": {},
   "outputs": [],
   "source": [
    "test_df = df[df['set']=='test'].copy()\n",
    "test_df.drop(['set'], axis=1, inplace = True)"
   ]
  },
  {
   "cell_type": "code",
   "execution_count": null,
   "id": "755a564a",
   "metadata": {},
   "outputs": [],
   "source": [
    "val_df = df[df['set']=='validate'].copy()\n",
    "val_df.drop(['set'], axis=1, inplace = True)"
   ]
  },
  {
   "cell_type": "code",
   "execution_count": null,
   "id": "1461a142",
   "metadata": {},
   "outputs": [],
   "source": [
    "# constants\n",
    "batch_size = 16\n",
    "image_size = (64, 64)\n",
    "epochs = 50\n",
    "\n",
    "# CNN model\n",
    "model = Sequential([\n",
    "        keras.Input(shape=(image_size[0], image_size[1], 3)),\n",
    "        \n",
    "        keras.layers.Conv2D(16, 3, activation='relu', padding='same'),\n",
    "        keras.layers.Conv2D(16, 3, activation='relu', padding='same'),\n",
    "        keras.layers.MaxPool2D(),\n",
    "        \n",
    "        keras.layers.SeparableConv2D(32, 3, activation='relu', padding='same'),\n",
    "        keras.layers.SeparableConv2D(32, 3, activation='relu', padding='same'),\n",
    "        keras.layers.BatchNormalization(),\n",
    "        keras.layers.MaxPool2D(),\n",
    "        \n",
    "        keras.layers.SeparableConv2D(64, 3, activation='relu', padding='same'),\n",
    "        keras.layers.SeparableConv2D(64, 3, activation='relu', padding='same'),\n",
    "        keras.layers.BatchNormalization(),\n",
    "        keras.layers.MaxPool2D(),\n",
    "        \n",
    "        keras.layers.SeparableConv2D(128, 3, activation='relu', padding='same'),\n",
    "        keras.layers.SeparableConv2D(128, 3, activation='relu', padding='same'),\n",
    "        keras.layers.BatchNormalization(),\n",
    "        keras.layers.MaxPool2D(),\n",
    "        keras.layers.Dropout(0.2),\n",
    "        \n",
    "        keras.layers.SeparableConv2D(256, 3, activation='relu', padding='same'),\n",
    "        keras.layers.SeparableConv2D(256, 3, activation='relu', padding='same'),\n",
    "        keras.layers.BatchNormalization(),\n",
    "        keras.layers.MaxPool2D(),\n",
    "        keras.layers.Dropout(0.2),\n",
    "        \n",
    "        keras.layers.Flatten(),\n",
    "        keras.layers.Dense(512, activation='relu'),\n",
    "        keras.layers.BatchNormalization(),\n",
    "        keras.layers.Dropout(0.7),\n",
    "        keras.layers.Dense(128, activation='relu'),\n",
    "        keras.layers.BatchNormalization(),\n",
    "        keras.layers.Dropout(0.5),\n",
    "        keras.layers.Dense(64, activation='relu'),\n",
    "        keras.layers.BatchNormalization(),\n",
    "        keras.layers.Dropout(0.3),\n",
    "        \n",
    "        keras.layers.Dense(3, activation='softmax')  # Three output nodes for three classes\n",
    "])\n",
    "\n",
    "# Compile the model\n",
    "model.compile(optimizer=Adam(learning_rate=0.001), loss='categorical_crossentropy', metrics=['accuracy'])  # Use categorical cross-entropy as the loss function\n",
    "\n",
    "# generators to read images from dataset directories\n",
    "train_datagen = ImageDataGenerator(rescale=1./255)\n",
    "test_datagen = ImageDataGenerator(rescale=1./255)\n",
    "\n",
    "train_generator = train_datagen.flow_from_dataframe(train_df, x_col='image_path', y_col='class', target_size=image_size, batch_size=batch_size)\n",
    "validation_generator = train_datagen.flow_from_dataframe(val_df, x_col='image_path', y_col='class', target_size=image_size, batch_size=batch_size)\n",
    "test_generator = test_datagen.flow_from_dataframe(test_df, x_col='image_path', y_col='class', target_size=image_size, batch_size=batch_size)\n",
    "\n",
    "# callbacks\n",
    "# early_stopping = EarlyStopping(monitor='val_loss', patience=5)\n",
    "# model_checkpoint = ModelCheckpoint('best_model.h5', monitor='val_loss', save_best_only=True)\n",
    "# reduce_lr_on_plateau = ReduceLROnPlateau(monitor='val_loss', factor=0.1, patience=5)\n",
    "\n",
    "# Train the model\n",
    "history = model.fit(\n",
    "    train_generator,\n",
    "    validation_data=validation_generator,\n",
    "    epochs=epochs,\n",
    "#    callbacks=[early_stopping, model_checkpoint, reduce_lr_on_plateau]\n",
    ")\n",
    "\n",
    "# Evaluate the model\n",
    "loss, accuracy = model.evaluate(test_generator)\n",
    "print(f'Test loss: {loss:.4f}, Test accuracy: {accuracy:.4f}')"
   ]
  },
  {
   "cell_type": "code",
   "execution_count": null,
   "id": "012a876e",
   "metadata": {},
   "outputs": [],
   "source": [
    "#test_generator.reset()\n",
    "predictions = model.predict(test_generator, steps=test_generator.n//test_generator.batch_size+1)\n",
    "y_test_hat = np.argmax(predictions, axis=1)\n",
    "y_true = test_generator.classes"
   ]
  },
  {
   "cell_type": "code",
   "execution_count": null,
   "id": "1dd4d980",
   "metadata": {},
   "outputs": [],
   "source": [
    "test_accuracy=accuracy_score(y_true,y_test_hat )*100\n",
    "print(\"Accuracy for our testing dataset is : {:.2f}%\".format(test_accuracy))\n",
    "plot_cm(y_test_hat , y_true, 'CNN Confusion Matrix (bm)')\n",
    "\n",
    "report = classification_report(y_true, y_test_hat , target_names= ['Normal (0)', 'Virus (1)', 'Bacteria (2)'])\n",
    "classification_report_csv(report,'CNN Classification report (bm)')\n",
    "print(report)"
   ]
  },
  {
   "cell_type": "code",
   "execution_count": null,
   "id": "d1844d51",
   "metadata": {},
   "outputs": [],
   "source": []
  },
  {
   "cell_type": "code",
   "execution_count": null,
   "id": "61c6b412",
   "metadata": {},
   "outputs": [],
   "source": []
  }
 ],
 "metadata": {
  "kernelspec": {
   "display_name": "Python 3 (ipykernel)",
   "language": "python",
   "name": "python3"
  },
  "language_info": {
   "codemirror_mode": {
    "name": "ipython",
    "version": 3
   },
   "file_extension": ".py",
   "mimetype": "text/x-python",
   "name": "python",
   "nbconvert_exporter": "python",
   "pygments_lexer": "ipython3",
   "version": "3.9.16"
  }
 },
 "nbformat": 4,
 "nbformat_minor": 5
}
